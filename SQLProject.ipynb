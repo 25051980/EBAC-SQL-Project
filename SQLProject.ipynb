{
 "cells": [
  {
   "cell_type": "markdown",
   "id": "4bce4263-4d7b-4b19-8260-a8492a8d88fb",
   "metadata": {},
   "source": [
    "# Introduction and description of the project"
   ]
  },
  {
   "cell_type": "markdown",
   "id": "e77d5b76-749f-4ec7-b23b-6597115e41c1",
   "metadata": {},
   "source": [
    "The goal of this project is to utilize these variables to gain insights into customer behavior regarding credit usage and to identify patterns that may help in credit risk assessment and marketing strategies."
   ]
  },
  {
   "cell_type": "markdown",
   "id": "e7f49609-37d3-4bab-bb20-455644b18bd7",
   "metadata": {},
   "source": [
    "## Definition of attributes"
   ]
  },
  {
   "cell_type": "code",
   "execution_count": 7,
   "id": "fb53eb99-3aa3-4f00-b7b7-78138acb363d",
   "metadata": {},
   "outputs": [
    {
     "data": {
      "text/html": [
       "<img src=\"https://github.com/25051980/Definition-of-attributes/blob/main/Definition%20of%20attributes.png?raw=true\"/>"
      ],
      "text/plain": [
       "<IPython.core.display.Image object>"
      ]
     },
     "execution_count": 7,
     "metadata": {},
     "output_type": "execute_result"
    }
   ],
   "source": [
    "from IPython.display import Image\n",
    "\n",
    "# Display the image from the provided URL\n",
    "Image(url=\"https://github.com/25051980/Definition-of-attributes/blob/main/Definition%20of%20attributes.png?raw=true\")\n"
   ]
  },
  {
   "cell_type": "markdown",
   "id": "c2981e35-227c-4c9f-a329-585b9c55ca43",
   "metadata": {},
   "source": [
    "**Idade**(age): An integer representing the individual's age.\n",
    "\n",
    "**Sexo** (gender): A string indicating the individual's gender.\n",
    "\n",
    "**Dependentes** (dependents): An integer counting the number of dependents the individual has.\n",
    "\n",
    "**Escolaridade** (education): A string detailing the individual's level of education.\n",
    "\n",
    "**Estado_civil** (marital status): A string representing the marital status of the individual.\n",
    "\n",
    "**Salario_anual** (annual salary): A string specifying the individual's annual salary.\n",
    "\n",
    "**Tipo_cartao** (type of card): A string indicating the type of credit card held by the individual.\n",
    "\n",
    "**qtd_produtos** (number of products): A bigint value representing the total number of banking products the individual uses.\n",
    "\n",
    "**Iteracoes_12m** (interactions_12m): An integer showing how many times the individual has interacted with the bank in the last 12 months.\n",
    "\n",
    "**Meses_inativo_12m** (inactive_months_12m): An integer representing the number of months the individual has been inactive in the last year.\n",
    "\n",
    "**Limite_credito** (credit limit): A float value indicating the individual's credit limit.\n",
    "\n",
    "**Valor_transacoes_12m** (transaction_amount_12m): A float value of the total amount of transactions made by the individual in the past 12 months.\n",
    "\n",
    "**qtd_transacoes_12m** (transaction_quantity_12m): An integer showing the total number of transactions the individual has made in the last year."
   ]
  },
  {
   "cell_type": "markdown",
   "id": "e50e56dd-ab73-4caf-a348-bd08b7d3704b",
   "metadata": {},
   "source": [
    "## Data exploration "
   ]
  },
  {
   "cell_type": "markdown",
   "id": "ee979ff7-4f08-471d-b2e8-356bde099918",
   "metadata": {},
   "source": [
    "SELECT COUNT(*) FROM credito;\n",
    "​\n",
    "   \n",
    "   \n",
    "   ANSWER: 2564\n",
    "​"
   ]
  },
  {
   "cell_type": "markdown",
   "id": "0aef3b3a-37c2-48cc-8fc1-23ccdb3bdbf3",
   "metadata": {},
   "source": [
    "### First 10 rows of the data set"
   ]
  },
  {
   "cell_type": "code",
   "execution_count": 3,
   "id": "ab58f94f-4b7a-4927-8650-4ebf61c5d08b",
   "metadata": {},
   "outputs": [
    {
     "data": {
      "text/html": [
       "<img src=\"https://github.com/25051980/1first-rows/blob/main/10%20rows.png?raw=true\"/>"
      ],
      "text/plain": [
       "<IPython.core.display.Image object>"
      ]
     },
     "execution_count": 3,
     "metadata": {},
     "output_type": "execute_result"
    }
   ],
   "source": [
    "from IPython.display import Image\n",
    "from IPython.core.display import HTML \n",
    "\n",
    "Image(url=\"https://github.com/25051980/1first-rows/blob/main/10%20rows.png?raw=true\")\n"
   ]
  },
  {
   "cell_type": "markdown",
   "id": "f385fbbb-b14a-428f-a61d-9912939f15d5",
   "metadata": {},
   "source": [
    "**Idade (age):** This column shows the age of the individuals, ranging from 37 to 51 years old.\n",
    "**Sexo (sex):** This indicates the gender of the individuals, either 'M' for male or 'F' for female.\n",
    "**Dependentes (dependents):** The number of dependents each individual has, ranging from 0 to 5.\n",
    "**Escolaridade (education level):**  The education level of individuals, varying from 'ensino medio' (high school), 'mestrado' (master's degree), to 'sem educacao formal' (no formal education), or 'na' (not available).\n",
    "**Estado_civil (marital status):** Marital status of the individuals, indicated as 'casado' (married), 'solteiro' (single), or 'na' (not available).\n",
    "**Salario_anual (annual salary):** The approximate annual salary range for each individual, such as '$60K - $80K', 'menos que $40K' (less than $40K), '$80K - $120K', '$40K - $60K', or '$120K+'.\n",
    "**Tipo_cartao (type of card):** The type of card held by individuals, for instance, 'blue', 'silver', or 'gold'.\n",
    "**Qtd_produtos (number of products):** How many products the individual has, noted as a numerical value.\n",
    "**Iteracoes_12m (interactions in 12 months):** The number of interactions individuals had over the past 12 months, recorded as a numerical count.\n",
    "**Meses_inativo_12m (months inactive in 12 months):** The number of months an individual has been inactive over the past 12 months.\n",
    "**Limite_credito (credit limit):** The credit limit available to the individual.\n",
    "**Valor_transacoes_12m (transaction value in 12 months):** The total value of transactions an individual has made over the past 12 months.\n",
    "**Qtd_transacoes_12m (number of transactions in 12 months):** The number of transactions an individual has made over the past 12 months."
   ]
  },
  {
   "cell_type": "markdown",
   "id": "9598e2fa-f570-4f92-b3d2-2411964a444b",
   "metadata": {},
   "source": [
    "## Credit Limit"
   ]
  },
  {
   "cell_type": "markdown",
   "id": "d5a51afd-3205-41e3-8926-34b7f0d1b470",
   "metadata": {},
   "source": [
    "**Query:** SELECT * FROM credit_info;\n"
   ]
  },
  {
   "cell_type": "code",
   "execution_count": null,
   "id": "0e10e606-56b9-40f0-9f4a-f656f9b4ce87",
   "metadata": {},
   "outputs": [],
   "source": []
  },
  {
   "cell_type": "code",
   "execution_count": 4,
   "id": "1633a044-59fc-495f-84af-420c5f4c301a",
   "metadata": {},
   "outputs": [
    {
     "data": {
      "text/html": [
       "<img src=\"https://github.com/25051980/credit-limit/blob/main/Screenshot%202024-04-25%20at%2013.51.17.png?raw=true\"/>"
      ],
      "text/plain": [
       "<IPython.core.display.Image object>"
      ]
     },
     "execution_count": 4,
     "metadata": {},
     "output_type": "execute_result"
    }
   ],
   "source": [
    "from IPython.display import Image\n",
    "\n",
    "# Display the image from the provided URL\n",
    "Image(url=\"https://github.com/25051980/credit-limit/blob/main/Screenshot%202024-04-25%20at%2013.51.17.png?raw=true\")\n"
   ]
  },
  {
   "cell_type": "markdown",
   "id": "972b066b-a154-46bf-b78d-c500e8a95023",
   "metadata": {},
   "source": [
    "The image shows a table with data organized into columns with the headers: limite_credito (credit limit), escolaridade (education level), tipo_cartao (card type), and sexo (gender). The credit limits are in the range of 34516.74 to 34516.99, indicating very minor differences across different education levels and card types. From this data, it does not appear that there is a significant disparity in credit limits based on a person's qualifications. The credit limits are quite close to each other, differing by mere cents rather than substantial amounts."
   ]
  },
  {
   "cell_type": "markdown",
   "id": "b818efd1-f348-49c0-9b17-6203cf586a37",
   "metadata": {},
   "source": [
    "## A graph to better understand the data about the credit limit in relation to education, card type and gender"
   ]
  },
  {
   "cell_type": "code",
   "execution_count": 2,
   "id": "bdece9e2-b100-42ef-80be-88dabd34ff4c",
   "metadata": {},
   "outputs": [
    {
     "data": {
      "image/png": "[encoded data removed]",
      "text/plain": [
       "<Figure size 1200x800 with 1 Axes>"
      ]
     },
     "metadata": {},
     "output_type": "display_data"
    }
   ],
   "source": [
    "import pandas as pd\n",
    "import matplotlib.pyplot as plt\n",
    "\n",
    "# File path to the CSV file\n",
    "file_path = 'limitedecredito.csv'\n",
    "\n",
    "# Read the data into a DataFrame\n",
    "df = pd.read_csv(file_path)\n",
    "\n",
    "# Grouping the data by 'tipo_cartao', 'sexo', and 'escolaridade' and counting occurrences\n",
    "grouped_data = df.groupby(['tipo_cartao', 'sexo', 'escolaridade']).size().unstack(fill_value=0)\n",
    "\n",
    "# Plotting the grouped bar chart\n",
    "fig, ax = plt.subplots(figsize=(12, 8))\n",
    "\n",
    "# This will create a bar chart, where each 'tipo_cartao' has bars grouped by 'sexo' and 'escolaridade'\n",
    "grouped_data.plot(kind='bar', ax=ax)\n",
    "\n",
    "# Adding labels and title\n",
    "plt.title('Distribuição do Tipo de Cartão por Sexo e Escolaridade')\n",
    "plt.xlabel('Tipo de Cartão')\n",
    "plt.ylabel('Quantidade')\n",
    "plt.xticks(rotation=45)  # Rotate labels to improve readability\n",
    "plt.legend(title='Escolaridade', bbox_to_anchor=(1.05, 1), loc='upper left')  # Adjust legend placement\n",
    "\n",
    "plt.tight_layout()\n",
    "plt.show()\n",
    "\n"
   ]
  },
  {
   "cell_type": "markdown",
   "id": "a609faad-5c3c-4796-b905-b7d8214d6586",
   "metadata": {},
   "source": [
    "## Quantity of products "
   ]
  },
  {
   "cell_type": "markdown",
   "id": "f74e4cb4-ee91-481f-958d-13f955b27b6e",
   "metadata": {},
   "source": [
    "**Query:** FROM\n",
    "    customer_data\n",
    "GROUP BY\n",
    "    sexo,\n",
    "    salary_range;"
   ]
  },
  {
   "cell_type": "code",
   "execution_count": 5,
   "id": "5317da64-8944-4764-8042-fbe6b9f31248",
   "metadata": {},
   "outputs": [
    {
     "data": {
      "text/html": [
       "<img src=\"https://github.com/25051980/qtd-/blob/main/Qtd.png?raw=true\"/>"
      ],
      "text/plain": [
       "<IPython.core.display.Image object>"
      ]
     },
     "execution_count": 5,
     "metadata": {},
     "output_type": "execute_result"
    }
   ],
   "source": [
    "from IPython.display import Image\n",
    "\n",
    "# Display the image from the provided URL\n",
    "Image(url=\"https://github.com/25051980/qtd-/blob/main/Qtd.png?raw=true\")\n"
   ]
  },
  {
   "cell_type": "markdown",
   "id": "1ebdf17d-84fe-46bf-a81e-ac66138ecd71",
   "metadata": {},
   "source": [
    "The table suggests certain trends, such as males in the highest salary category ($120K+) have the greatest average number of products and the highest credit limit, indicating a potential correlation between income and financial activity. Conversely, individuals in the lowest salary bracket, regardless of gender, engage in transactions of lesser value and have lower credit limits, potentially highlighting income's influence on purchasing power and credit allocation."
   ]
  },
  {
   "cell_type": "markdown",
   "id": "016ab233-d159-4e1b-b457-cfb2cadabf55",
   "metadata": {},
   "source": [
    "## Marital_status"
   ]
  },
  {
   "cell_type": "markdown",
   "id": "9737001e-aa5e-4f49-9bb5-4d474247986d",
   "metadata": {},
   "source": [
    "**QUERY:**  SELECT estado_civil AS marital_status, AVG(idade) AS avg_age\n",
    "FROM credito\n",
    "GROUP BY estado_civil;"
   ]
  },
  {
   "cell_type": "code",
   "execution_count": 6,
   "id": "902d9b8c-c2f3-4372-9efd-d51998a9bdcd",
   "metadata": {},
   "outputs": [
    {
     "data": {
      "text/html": [
       "<img src=\"https://github.com/25051980/Marital-status/blob/main/Marital%20status.png?raw=true\"/>"
      ],
      "text/plain": [
       "<IPython.core.display.Image object>"
      ]
     },
     "execution_count": 6,
     "metadata": {},
     "output_type": "execute_result"
    }
   ],
   "source": [
    "from IPython.display import Image\n",
    "\n",
    "# Display the image from the provided URL\n",
    "Image(url=\"https://github.com/25051980/Marital-status/blob/main/Marital%20status.png?raw=true\")\n"
   ]
  },
  {
   "cell_type": "markdown",
   "id": "e19a60c3-4d5b-4d60-a661-ecf3b433e9a3",
   "metadata": {},
   "source": [
    "Married individuals have a higher average age compared to those who are divorced or single. While individuals whose marital status is not available or not applicable have an average age that falls between the single/divorced and married categories.\n"
   ]
  },
  {
   "cell_type": "markdown",
   "id": "024e6b15-10fe-4674-97d0-15e1eaa0803b",
   "metadata": {},
   "source": [
    "## Anual Salary overview"
   ]
  },
  {
   "cell_type": "markdown",
   "id": "e964c3cc-718a-4675-b1e0-6954d5b71e53",
   "metadata": {},
   "source": [
    "Query: SELECT salario_anual FROM credito;"
   ]
  },
  {
   "cell_type": "code",
   "execution_count": 9,
   "id": "434d36aa-8dd1-487d-bf6c-a0bce4ac701d",
   "metadata": {},
   "outputs": [
    {
     "data": {
      "text/html": [
       "<img src=\"https://github.com/25051980/Anual-Salary/blob/main/Anual%20Salary.png?raw=true\"/>"
      ],
      "text/plain": [
       "<IPython.core.display.Image object>"
      ]
     },
     "execution_count": 9,
     "metadata": {},
     "output_type": "execute_result"
    }
   ],
   "source": [
    "from IPython.display import Image\n",
    "\n",
    "# Display the image from the provided URL\n",
    "Image(url=\"https://github.com/25051980/Anual-Salary/blob/main/Anual%20Salary.png?raw=true\")\n"
   ]
  },
  {
   "cell_type": "markdown",
   "id": "842207c1-2201-4a99-bf2c-7e63ec2dee92",
   "metadata": {},
   "source": [
    "The data shows that the largest group of individuals (701) earns below **40K** annually, suggesting a lean towards lower incomes in this population. A moderate number earn between **40K** and **80K**, while higher earners above 80K are less common. The **'na'** entries add some uncertainty to the full income picture. Overall, most individuals earn under **80K**, highlighting a concentration in lower to middle-income brackets.\n"
   ]
  },
  {
   "cell_type": "markdown",
   "id": "24adac40-7b94-48a9-9afe-5a20b87dbcf8",
   "metadata": {},
   "source": [
    "## Age destribution by gender"
   ]
  },
  {
   "cell_type": "markdown",
   "id": "b1033db7-4da3-4373-9a2e-6adb9463a546",
   "metadata": {},
   "source": [
    "**Query**: SELECT\n",
    "    sexo AS gender,\n",
    "    SUM(CAST(COALESCE(NULLIF(REGEXP_REPLACE(salario_anual, '[^0-9.]', ''), ''), '0') AS DECIMAL(10, 2))) AS total_annual_salary,\n",
    "    SUM(limite_credito) AS total_credit_limit\n",
    "FROM\n",
    "    credito\n",
    "GROUP BY\n",
    "    sexo;\n"
   ]
  },
  {
   "cell_type": "code",
   "execution_count": 10,
   "id": "d059f3d0-7e94-446a-86c5-9342e592986a",
   "metadata": {},
   "outputs": [
    {
     "data": {
      "text/html": [
       "<img src=\"https://github.com/25051980/Age-destribution-by-gender1/blob/main/Age%20destribution%20by%20gender.png?raw=true\"/>"
      ],
      "text/plain": [
       "<IPython.core.display.Image object>"
      ]
     },
     "execution_count": 10,
     "metadata": {},
     "output_type": "execute_result"
    }
   ],
   "source": [
    "from IPython.display import Image\n",
    "\n",
    "# Display the image from the provided URL\n",
    "Image(url=\"https://github.com/25051980/Age-destribution-by-gender1/blob/main/Age%20destribution%20by%20gender.png?raw=true\")\n"
   ]
  },
  {
   "cell_type": "markdown",
   "id": "b8a7d65b-6ecd-4729-b238-9e922a142381",
   "metadata": {},
   "source": [
    "## Distribution of transaction counts by education level"
   ]
  },
  {
   "cell_type": "markdown",
   "id": "cf58bc0f-d59c-4334-812e-0a0c53133a79",
   "metadata": {},
   "source": [
    "**Query:** SELECT escolaridade AS education_level, qtd_transacoes_12m AS transaction_count, COUNT(*) AS count\n",
    "FROM credito\n",
    "GROUP BY escolaridade, qtd_transacoes_12m;\n",
    " "
   ]
  },
  {
   "cell_type": "code",
   "execution_count": 36,
   "id": "04f1419e-e7fa-4e50-9e62-b607eae1743e",
   "metadata": {},
   "outputs": [
    {
     "data": {
      "text/html": [
       "<img src=\"https://raw.githubusercontent.com/25051980/Distribution-of-Transaction-Counts-by-Education-Level-10-rows/main/Distribution%20of%20Transaction%20Counts%20by%20Education%20Level.png\"/>"
      ],
      "text/plain": [
       "<IPython.core.display.Image object>"
      ]
     },
     "execution_count": 36,
     "metadata": {},
     "output_type": "execute_result"
    }
   ],
   "source": [
    "from IPython.display import Image\n",
    "\n",
    "# URL of the image\n",
    "image_url = 'https://raw.githubusercontent.com/25051980/Distribution-of-Transaction-Counts-by-Education-Level-10-rows/main/Distribution%20of%20Transaction%20Counts%20by%20Education%20Level.png'\n",
    "\n",
    "# Display the image\n",
    "Image(url=image_url)"
   ]
  },
  {
   "cell_type": "code",
   "execution_count": 29,
   "id": "c92cc056-26fd-41e0-a9a3-2927705ee353",
   "metadata": {},
   "outputs": [
    {
     "name": "stdout",
     "output_type": "stream",
     "text": [
      "         education_level  transaction_count  count\n",
      "0           ensino medio                 42      7\n",
      "1               mestrado                 20      9\n",
      "2    sem educacao formal                 28      9\n",
      "3           ensino medio                 36     19\n",
      "4    sem educacao formal                 24      6\n",
      "..                   ...                ...    ...\n",
      "404                   na                 69      2\n",
      "405            graduacao                 75      1\n",
      "406                   na                 19      1\n",
      "407             mestrado                 83      1\n",
      "408  sem educacao formal                 67      3\n",
      "\n",
      "[409 rows x 3 columns]\n"
     ]
    }
   ],
   "source": [
    "import pandas as pd\n",
    "\n",
    "# Load the CSV file into a DataFrame\n",
    "data = pd.read_csv('SQL Project/Distribution of Transaction Counts by Education Level.csv')\n",
    "\n",
    "# Display the entire DataFrame\n",
    "print(data)\n",
    "\n"
   ]
  },
  {
   "cell_type": "code",
   "execution_count": 30,
   "id": "3295f6b8-15dd-405c-b3d8-b5fece017c96",
   "metadata": {},
   "outputs": [
    {
     "data": {
      "image/png": "[encoded data removed]",
      "text/plain": [
       "<Figure size 1000x600 with 1 Axes>"
      ]
     },
     "metadata": {},
     "output_type": "display_data"
    }
   ],
   "source": [
    "import pandas as pd\n",
    "import matplotlib.pyplot as plt\n",
    "\n",
    "# Create a DataFrame using the provided data\n",
    "data = pd.DataFrame({\n",
    "    'education_level': ['ensino medio', 'mestrado', 'sem educacao formal', 'ensino medio',\n",
    "                        'sem educacao formal', 'na', 'graduacao', 'na', 'mestrado',\n",
    "                        'sem educacao formal'],\n",
    "    'transaction_count': [42, 20, 28, 36, 24, 69, 75, 19, 83, 67],\n",
    "    'count': [7, 9, 9, 19, 6, 2, 1, 1, 1, 3]\n",
    "})\n",
    "\n",
    "# Since 'education_level' is a categorical variable, let's group the data by 'education_level'\n",
    "# and sum the 'transaction_count' to get the total count per education level\n",
    "grouped_data = data.groupby('education_level')['transaction_count'].sum().reset_index()\n",
    "\n",
    "# Create a bar plot\n",
    "plt.figure(figsize=(10, 6))\n",
    "plt.bar(grouped_data['education_level'], grouped_data['transaction_count'], color='skyblue')\n",
    "plt.xlabel('Education Level')\n",
    "plt.ylabel('Total Transaction Count')\n",
    "plt.title('Total Transaction Counts by Education Level')\n",
    "plt.xticks(rotation=45)\n",
    "plt.tight_layout()  # Adjust layout for better fit\n",
    "plt.show()\n"
   ]
  },
  {
   "cell_type": "markdown",
   "id": "98b095c7-00ab-4b0c-a097-e4ed34b65982",
   "metadata": {},
   "source": [
    "The bar chart titled \"Total Transaction Counts by Education Level\" visually represents transaction data categorized by different levels of education. The x-axis categorizes education levels, which include 'ensino medio' (high school), 'graduacao' (graduation), 'mestrado' (master's degree), and 'na' (not available or not applicable). The y-axis measures the total transaction count. **The chart highlights the variations in the transaction counts among these education categories, with 'mestrado' and 'sem educacao formal' (without formal education) appearing to have the highest transaction counts, indicating a possible correlation between education level and transaction activity**."
   ]
  },
  {
   "cell_type": "markdown",
   "id": "777d399b-0c8b-4cc8-9df6-b0a150aae900",
   "metadata": {},
   "source": [
    "## Gender"
   ]
  },
  {
   "cell_type": "markdown",
   "id": "d0c3b7db-d16a-4012-8c4e-a8bc3ced314f",
   "metadata": {},
   "source": [
    "**QUERY**: SELECT\n",
    "    sexo AS gender,\n",
    "    SUM(CAST(COALESCE(NULLIF(REGEXP_REPLACE(salario_anual, '[^0-9.]', ''), ''), '0') AS DECIMAL(10, 2))) AS total_annual_salary,\n",
    "    SUM(limite_credito) AS total_credit_limit\n",
    "FROM\n",
    "    credito\n",
    "GROUP BY\n",
    "    sexo;\n"
   ]
  },
  {
   "cell_type": "code",
   "execution_count": 37,
   "id": "268b0736-fd18-4ac8-848a-036a3ec58166",
   "metadata": {},
   "outputs": [
    {
     "data": {
      "text/html": [
       "<img src=\"https://raw.githubusercontent.com/25051980/Gender/main/Gender.png\"/>"
      ],
      "text/plain": [
       "<IPython.core.display.Image object>"
      ]
     },
     "execution_count": 37,
     "metadata": {},
     "output_type": "execute_result"
    }
   ],
   "source": [
    "from IPython.display import Image\n",
    "\n",
    "# URL of the image\n",
    "image_url = 'https://raw.githubusercontent.com/25051980/Gender/main/Gender.png'\n",
    "\n",
    "# Display the image\n",
    "Image(url=image_url)\n"
   ]
  },
  {
   "cell_type": "markdown",
   "id": "08bb49f2-c0dd-4141-b335-ba83ecd45987",
   "metadata": {},
   "source": [
    "It suggests a prevalence of male entries over female ones, denoting a higher male population within the data."
   ]
  }
 ],
 "metadata": {
  "kernelspec": {
   "display_name": "Python 3 (ipykernel)",
   "language": "python",
   "name": "python3"
  },
  "language_info": {
   "codemirror_mode": {
    "name": "ipython",
    "version": 3
   },
   "file_extension": ".py",
   "mimetype": "text/x-python",
   "name": "python",
   "nbconvert_exporter": "python",
   "pygments_lexer": "ipython3",
   "version": "3.11.7"
  }
 },
 "nbformat": 4,
 "nbformat_minor": 5
}
